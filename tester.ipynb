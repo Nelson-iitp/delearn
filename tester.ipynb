{
 "cells": [
  {
   "cell_type": "code",
   "execution_count": null,
   "metadata": {},
   "outputs": [],
   "source": [
    "import delearn as dl\n",
    "import torch as tt\n",
    "from torch.utils.data import Dataset, DataLoader\n",
    "import matplotlib.pyplot as plt\n",
    "\n",
    "dtype=tt.float32"
   ]
  },
  {
   "cell_type": "code",
   "execution_count": null,
   "metadata": {},
   "outputs": [],
   "source": [
    "from mlp import MLP_PARAMS_DICT, MLP_PARAMS_LIST\n",
    "\n",
    "# params = MLP_PARAMS_LIST(\n",
    "#     input_size=1,\n",
    "#     layer_sizes=[64,64,64],\n",
    "#     output_size=1,\n",
    "#     dtype=dtype,\n",
    "# )\n",
    "\n",
    "params = MLP_PARAMS_DICT(\n",
    "    input_size=1,\n",
    "    layer_sizes=[64,64,64],\n",
    "    output_size=1,\n",
    "    dtype=dtype,\n",
    ")\n",
    "\n",
    "module = dl.Module(params)\n",
    "\n",
    "def forward(m, x): \n",
    "    return ( tt.matmul(\n",
    "        tt.relu( tt.matmul(\n",
    "        tt.tanh( tt.matmul(\n",
    "        tt.sigmoid( tt.matmul(\n",
    "        x\n",
    "        , m['w0']) + m['b0'] )\n",
    "        , m['w1']) + m['b1'] )\n",
    "        , m['w2']) + m['b2'] )\n",
    "        , m['w3']) + m['b3'] )\n",
    "\n"
   ]
  },
  {
   "cell_type": "code",
   "execution_count": null,
   "metadata": {},
   "outputs": [],
   "source": [
    "dl.show_parameters(module)\n",
    "dl.count_parameters(module)"
   ]
  },
  {
   "cell_type": "code",
   "execution_count": null,
   "metadata": {},
   "outputs": [],
   "source": [
    "for i,(n,p) in module: print(i, n, p.shape)"
   ]
  },
  {
   "cell_type": "code",
   "execution_count": null,
   "metadata": {},
   "outputs": [],
   "source": [
    "dl.rand_parameters(module)"
   ]
  },
  {
   "cell_type": "code",
   "execution_count": null,
   "metadata": {},
   "outputs": [],
   "source": [
    "dl.show_parameters(module, values=True)"
   ]
  },
  {
   "attachments": {},
   "cell_type": "markdown",
   "metadata": {},
   "source": [
    "# Define Forward function"
   ]
  },
  {
   "cell_type": "code",
   "execution_count": null,
   "metadata": {},
   "outputs": [],
   "source": []
  },
  {
   "cell_type": "code",
   "execution_count": null,
   "metadata": {},
   "outputs": [],
   "source": [
    "x = tt.linspace(-5, 5, 50, dtype=dtype)\n",
    "y = tt.sin(x)\n",
    "ds = dl.Task( x.unsqueeze(-1), y.unsqueeze(-1), )\n",
    "\n",
    "xx, yy = next(iter(DataLoader(ds, batch_size=len(ds), shuffle=True)))\n",
    "\n",
    "plt.scatter(xx,yy)\n",
    "print(len(ds))"
   ]
  },
  {
   "cell_type": "code",
   "execution_count": null,
   "metadata": {},
   "outputs": [],
   "source": [
    "\n",
    "with tt.no_grad():\n",
    "    pp = forward(module, xx)\n",
    "\n",
    "plt.scatter(xx,yy)\n",
    "plt.scatter(xx,pp)"
   ]
  },
  {
   "cell_type": "code",
   "execution_count": null,
   "metadata": {},
   "outputs": [],
   "source": [
    "lossf = tt.nn.MSELoss()\n",
    "optimf = dl.SGD(lr=0.01)"
   ]
  },
  {
   "cell_type": "code",
   "execution_count": null,
   "metadata": {},
   "outputs": [],
   "source": [
    "import numpy as np\n",
    "class TrainingCallback(dl.Callback):\n",
    "    def __init__(self) -> None: super().__init__()\n",
    "    def on_train_begin(self, n, optim): \n",
    "        self.losses = []\n",
    "    def on_train_end(self, n): \n",
    "        plt.plot(self.losses)\n",
    "    def on_batch_begin(self, batch, x, y): pass\n",
    "    def on_batch_end(self, batch, batch_loss, module):self.batch_losses.append(batch_loss)\n",
    "    def on_epoch_begin(self, epoch): self.batch_losses=[]\n",
    "    def on_epoch_end(self, epoch): \n",
    "        self.losses.append(np.mean(self.batch_losses))\n",
    "        del self.batch_losses\n",
    "\n",
    "callback = TrainingCallback()"
   ]
  },
  {
   "cell_type": "code",
   "execution_count": null,
   "metadata": {},
   "outputs": [],
   "source": [
    "dl.Trainer.train_ds(\n",
    "    forward=forward,\n",
    "    module=module,\n",
    "    lossf=lossf,\n",
    "    optimf=optimf,\n",
    "    dsF=lambda m, n, e: ds,\n",
    "    n=1000,\n",
    "    batch_mode=False,\n",
    "    batch_size=10,\n",
    "    shuffle=True,\n",
    "    callback=callback,\n",
    "    create_graph=False,\n",
    ")"
   ]
  },
  {
   "cell_type": "code",
   "execution_count": null,
   "metadata": {},
   "outputs": [],
   "source": [
    "epochs = 1000\n",
    "batch_size = 10\n",
    "loss = tt.nn.MSELoss()\n",
    "\n",
    "losses = []\n",
    "for epoch in range(epochs):\n",
    "    XY = DataLoader(ds, batch_size=batch_size, shuffle=True)\n",
    "    for i,(X,Y) in enumerate(XY):\n",
    "        model.module.zero_grad()\n",
    "        P = model.forward(X)\n",
    "        L = loss(P, Y)\n",
    "        L.backward()\n",
    "        losses.append(L.item())\n",
    "        \n",
    "        with tt.no_grad():\n",
    "            for p in model.parameters(): p-=0.02*p.grad\n",
    "\n",
    "plt.plot(losses)\n"
   ]
  }
 ],
 "metadata": {
  "kernelspec": {
   "display_name": "Python 3",
   "language": "python",
   "name": "python3"
  },
  "language_info": {
   "codemirror_mode": {
    "name": "ipython",
    "version": 3
   },
   "file_extension": ".py",
   "mimetype": "text/x-python",
   "name": "python",
   "nbconvert_exporter": "python",
   "pygments_lexer": "ipython3",
   "version": "3.8.10"
  },
  "orig_nbformat": 4
 },
 "nbformat": 4,
 "nbformat_minor": 2
}

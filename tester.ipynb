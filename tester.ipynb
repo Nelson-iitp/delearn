{
 "cells": [
  {
   "cell_type": "code",
   "execution_count": null,
   "metadata": {},
   "outputs": [],
   "source": [
    "import delearn as dl\n",
    "import torch as tt\n",
    "from torch.utils.data import Dataset, DataLoader\n",
    "import matplotlib.pyplot as plt\n",
    "\n",
    "dtype=tt.float32"
   ]
  },
  {
   "cell_type": "code",
   "execution_count": null,
   "metadata": {},
   "outputs": [],
   "source": [
    "from mlp import MLP_PARAMS_DICT\n",
    "\n",
    "parameters_dict = MLP_PARAMS_DICT(\n",
    "    input_size=1,\n",
    "    layer_sizes=[64,64,64],\n",
    "    output_size=1,\n",
    "    dtype=dtype,\n",
    ")\n",
    "parameters_dict.keys()"
   ]
  },
  {
   "cell_type": "code",
   "execution_count": null,
   "metadata": {},
   "outputs": [],
   "source": [
    "\n",
    "module = dl.Module(parameters_dict)\n",
    "dl.rand_parameters(module)\n",
    "def forward(m, x): \n",
    "    return ( tt.matmul(\n",
    "        tt.relu( tt.matmul(\n",
    "        tt.tanh( tt.matmul(\n",
    "        tt.sigmoid( tt.matmul(\n",
    "        x\n",
    "        , m['w0']) + m['b0'] )\n",
    "        , m['w1']) + m['b1'] )\n",
    "        , m['w2']) + m['b2'] )\n",
    "        , m['w3']) + m['b3'] )\n",
    "\n",
    "dl.show_parameters(module)\n"
   ]
  },
  {
   "cell_type": "code",
   "execution_count": null,
   "metadata": {},
   "outputs": [],
   "source": [
    "# dl.show_parameters(module)\n",
    "# dl.count_parameters(module)\n",
    "# for i,(n,p) in module: print(i, n, p.shape)\n",
    "# dl.show_parameters(module, values=True)"
   ]
  },
  {
   "attachments": {},
   "cell_type": "markdown",
   "metadata": {},
   "source": [
    "# Define Forward function"
   ]
  },
  {
   "cell_type": "code",
   "execution_count": null,
   "metadata": {},
   "outputs": [],
   "source": [
    "tx = tt.linspace(-25, 25, 500, dtype=dtype)\n",
    "ty = tt.sin(tx)\n",
    "tds = dl.Task( tx.unsqueeze(-1), ty.unsqueeze(-1), )\n",
    "print(len(tds))\n",
    "\n",
    "txx, tyy = next(iter(DataLoader(tds, batch_size=len(tds), shuffle=False)))\n",
    "plt.scatter(txx,tyy, color='black', marker='.')"
   ]
  },
  {
   "cell_type": "code",
   "execution_count": null,
   "metadata": {},
   "outputs": [],
   "source": [
    "vx = tt.linspace(-25, 25, 500, dtype=dtype)\n",
    "vy = tt.sin(vx)\n",
    "vds = dl.Task( vx.unsqueeze(-1), vy.unsqueeze(-1), )\n",
    "print(len(vds))\n",
    "\n",
    "vxx, vyy = next(iter(DataLoader(vds, batch_size=len(vds), shuffle=False)))\n",
    "plt.scatter(vxx,vyy, color='black', marker='.')"
   ]
  },
  {
   "cell_type": "code",
   "execution_count": null,
   "metadata": {},
   "outputs": [],
   "source": [
    "lossf = tt.nn.MSELoss()"
   ]
  },
  {
   "cell_type": "code",
   "execution_count": null,
   "metadata": {},
   "outputs": [],
   "source": [
    "\n",
    "tloss, tpp = dl.Trainer.predict_batch(txx, tyy, forward, module, lossf)\n",
    "vloss, vpp = dl.Trainer.predict_batch(vxx, vyy, forward, module, lossf)\n",
    "\n",
    "plt.scatter(txx,tyy, color='black', marker='.')\n",
    "plt.scatter(vxx,vyy, color='black', marker='.')\n",
    "plt.scatter(txx,tpp, color='red', marker='.')\n",
    "plt.scatter(vxx,vpp, color='blue', marker='.')\n",
    "plt.show()\n",
    "print(tloss, vloss)"
   ]
  },
  {
   "cell_type": "code",
   "execution_count": null,
   "metadata": {},
   "outputs": [],
   "source": [
    "xx, yy = txx, tyy\n",
    "loss, pp = dl.Trainer.predict_batch(xx, yy, forward, module, lossf)\n",
    "\n",
    "plt.scatter(xx,yy, color='black', marker='.')\n",
    "plt.scatter(xx,pp, color='red', marker='.')\n",
    "plt.show()\n",
    "print(loss)"
   ]
  },
  {
   "cell_type": "code",
   "execution_count": null,
   "metadata": {},
   "outputs": [],
   "source": [
    "callback = dl.TrainingCallback(val_data=(vxx,vyy), forward=forward, lossf=lossf)"
   ]
  },
  {
   "cell_type": "code",
   "execution_count": null,
   "metadata": {},
   "outputs": [],
   "source": [
    "optimf = dl.SGD( lr=0.025 )"
   ]
  },
  {
   "cell_type": "code",
   "execution_count": null,
   "metadata": {},
   "outputs": [],
   "source": [
    "optimf = dl.SGD( lr=0.025,momentum=0.02, dampening=0.05, weight_decay=0.01, nesterov=True )"
   ]
  },
  {
   "cell_type": "code",
   "execution_count": null,
   "metadata": {},
   "outputs": [],
   "source": [
    "callback.clear()"
   ]
  },
  {
   "cell_type": "code",
   "execution_count": null,
   "metadata": {},
   "outputs": [],
   "source": [
    "\n",
    "dl.Trainer.train_dataset(\n",
    "    forward=forward,\n",
    "    module=module,\n",
    "    lossf=lossf,\n",
    "    optimf=optimf,\n",
    "    dataf = lambda e: DataLoader(tds, batch_size=10, shuffle=True, drop_last=False),\n",
    "    n=2000,\n",
    "    batch_mode=False,\n",
    "    create_graph=False,\n",
    "    callback=callback,\n",
    ")\n",
    "callback.plot_results()"
   ]
  },
  {
   "cell_type": "code",
   "execution_count": null,
   "metadata": {},
   "outputs": [],
   "source": [
    "\n",
    "tloss, tpp = dl.Trainer.predict_batch(txx, tyy, forward, module, lossf)\n",
    "vloss, vpp = dl.Trainer.predict_batch(vxx, vyy, forward, module, lossf)\n",
    "\n",
    "plt.scatter(txx,tyy, color='black', marker='.')\n",
    "plt.scatter(vxx,vyy, color='black', marker='.')\n",
    "plt.scatter(txx,tpp, color='red', marker='.')\n",
    "plt.scatter(vxx,vpp, color='blue', marker='.')\n",
    "plt.show()\n",
    "print(tloss, vloss)"
   ]
  },
  {
   "cell_type": "code",
   "execution_count": null,
   "metadata": {},
   "outputs": [],
   "source": [
    "loss, pp = dl.Trainer.predict_batch(xx, yy, forward, module, lossf)\n",
    "\n",
    "plt.scatter(xx,yy, color='black', marker='.')\n",
    "plt.scatter(xx,pp, color='red', marker='.')\n",
    "print(loss)"
   ]
  },
  {
   "cell_type": "code",
   "execution_count": null,
   "metadata": {},
   "outputs": [],
   "source": [
    "plt.plot(callback.val_losses)"
   ]
  }
 ],
 "metadata": {
  "kernelspec": {
   "display_name": "Python 3",
   "language": "python",
   "name": "python3"
  },
  "language_info": {
   "codemirror_mode": {
    "name": "ipython",
    "version": 3
   },
   "file_extension": ".py",
   "mimetype": "text/x-python",
   "name": "python",
   "nbconvert_exporter": "python",
   "pygments_lexer": "ipython3",
   "version": "3.8.10"
  },
  "orig_nbformat": 4
 },
 "nbformat": 4,
 "nbformat_minor": 2
}
